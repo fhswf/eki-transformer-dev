{
 "cells": [
  {
   "cell_type": "code",
   "execution_count": 1,
   "id": "015aa5ab-928b-4d8e-8a29-0d3f390a9c06",
   "metadata": {
    "tags": []
   },
   "outputs": [],
   "source": [
    "# in case it is not been done before, install the package:\n",
    "#!pip install -e .\n",
    "# alternativly via git:\n",
    "#!pip install git+https://github.com/fhswf/eki-transformer-dev.git@develop#subdirectory=qtransform"
   ]
  },
  {
   "cell_type": "code",
   "execution_count": 2,
   "id": "53d87df4-a4c0-4d0a-9dbc-39f9d7806798",
   "metadata": {
    "tags": []
   },
   "outputs": [],
   "source": [
    "%load_ext autoreload\n",
    "%autoreload 2"
   ]
  },
  {
   "cell_type": "code",
   "execution_count": 3,
   "id": "076401d2-93b4-4969-9cea-9994bfdd52ea",
   "metadata": {
    "tags": []
   },
   "outputs": [],
   "source": [
    "import os\n",
    "from hydra import initialize, initialize_config_module, initialize_config_dir, compose\n",
    "from omegaconf import OmegaConf"
   ]
  },
  {
   "cell_type": "code",
   "execution_count": 4,
   "id": "b2058296-a377-4ad2-bc30-814a26532404",
   "metadata": {
    "tags": []
   },
   "outputs": [
    {
     "ename": "HydraException",
     "evalue": "config_path in initialize() must be relative",
     "output_type": "error",
     "traceback": [
      "\u001b[0;31m---------------------------------------------------------------------------\u001b[0m",
      "\u001b[0;31mHydraException\u001b[0m                            Traceback (most recent call last)",
      "Cell \u001b[0;32mIn[4], line 3\u001b[0m\n\u001b[1;32m      1\u001b[0m config_name\u001b[38;5;241m=\u001b[39m\u001b[38;5;124m\"\u001b[39m\u001b[38;5;124mconfig.yaml\u001b[39m\u001b[38;5;124m\"\u001b[39m\n\u001b[1;32m      2\u001b[0m \u001b[38;5;28;01mimport\u001b[39;00m \u001b[38;5;21;01mqtransform\u001b[39;00m\n\u001b[0;32m----> 3\u001b[0m \u001b[38;5;28;01mwith\u001b[39;00m \u001b[43minitialize\u001b[49m\u001b[43m(\u001b[49m\u001b[43mversion_base\u001b[49m\u001b[38;5;241;43m=\u001b[39;49m\u001b[38;5;28;43;01mNone\u001b[39;49;00m\u001b[43m,\u001b[49m\u001b[43m \u001b[49m\u001b[43mconfig_path\u001b[49m\u001b[38;5;241;43m=\u001b[39;49m\u001b[43mqtransform\u001b[49m\u001b[38;5;241;43m.\u001b[39;49m\u001b[43mget_module_config_path\u001b[49m\u001b[43m(\u001b[49m\u001b[43m)\u001b[49m\u001b[43m)\u001b[49m:\n\u001b[1;32m      4\u001b[0m     args \u001b[38;5;241m=\u001b[39m [\n\u001b[1;32m      5\u001b[0m         \u001b[38;5;124m\"\u001b[39m\u001b[38;5;124mrun=train\u001b[39m\u001b[38;5;124m\"\u001b[39m, \n\u001b[1;32m      6\u001b[0m         \u001b[38;5;124m\"\u001b[39m\u001b[38;5;124mmodel=gpt_2_small\u001b[39m\u001b[38;5;124m\"\u001b[39m,\n\u001b[0;32m   (...)\u001b[0m\n\u001b[1;32m     12\u001b[0m         \u001b[38;5;124m\"\u001b[39m\u001b[38;5;124mdataset.tokenizer.encoding=gpt2\u001b[39m\u001b[38;5;124m\"\u001b[39m\n\u001b[1;32m     13\u001b[0m     ]\n\u001b[1;32m     14\u001b[0m     cfg \u001b[38;5;241m=\u001b[39m compose(overrides\u001b[38;5;241m=\u001b[39margs)\n",
      "File \u001b[0;32m~/.local/lib/python3.10/site-packages/hydra/initialize.py:82\u001b[0m, in \u001b[0;36minitialize.__init__\u001b[0;34m(self, config_path, job_name, caller_stack_depth, version_base)\u001b[0m\n\u001b[1;32m     79\u001b[0m         config_path \u001b[38;5;241m=\u001b[39m \u001b[38;5;124m\"\u001b[39m\u001b[38;5;124m.\u001b[39m\u001b[38;5;124m\"\u001b[39m\n\u001b[1;32m     81\u001b[0m \u001b[38;5;28;01mif\u001b[39;00m config_path \u001b[38;5;129;01mis\u001b[39;00m \u001b[38;5;129;01mnot\u001b[39;00m \u001b[38;5;28;01mNone\u001b[39;00m \u001b[38;5;129;01mand\u001b[39;00m os\u001b[38;5;241m.\u001b[39mpath\u001b[38;5;241m.\u001b[39misabs(config_path):\n\u001b[0;32m---> 82\u001b[0m     \u001b[38;5;28;01mraise\u001b[39;00m HydraException(\u001b[38;5;124m\"\u001b[39m\u001b[38;5;124mconfig_path in initialize() must be relative\u001b[39m\u001b[38;5;124m\"\u001b[39m)\n\u001b[1;32m     83\u001b[0m calling_file, calling_module \u001b[38;5;241m=\u001b[39m detect_calling_file_or_module_from_stack_frame(\n\u001b[1;32m     84\u001b[0m     caller_stack_depth \u001b[38;5;241m+\u001b[39m \u001b[38;5;241m1\u001b[39m\n\u001b[1;32m     85\u001b[0m )\n\u001b[1;32m     86\u001b[0m \u001b[38;5;28;01mif\u001b[39;00m job_name \u001b[38;5;129;01mis\u001b[39;00m \u001b[38;5;28;01mNone\u001b[39;00m:\n",
      "\u001b[0;31mHydraException\u001b[0m: config_path in initialize() must be relative"
     ]
    }
   ],
   "source": [
    "config_name=\"config.yaml\"\n",
    "import qtransform\n",
    "with initialize(version_base=None, config_path=qtransform.get_module_config_path()):\n",
    "    args = [\n",
    "        \"run=train\", \n",
    "        \"model=gpt_2_small\",\n",
    "        \"dataset=huggingface dataset.name=tiny_shakespeare\",\n",
    "        \"+export=True\",\n",
    "        \"run.epochs=1\",\n",
    "        \"run.max_iters=300\",\n",
    "        \"dataset/tokenizer=tiktoken\",\n",
    "        \"dataset.tokenizer.encoding=gpt2\"\n",
    "    ]\n",
    "    cfg = compose(overrides=args)\n",
    "    print(cfg)"
   ]
  },
  {
   "cell_type": "code",
   "execution_count": null,
   "id": "65354c98-0e04-4217-b10f-bf95ef8f35a2",
   "metadata": {
    "tags": []
   },
   "outputs": [],
   "source": []
  },
  {
   "cell_type": "code",
   "execution_count": null,
   "id": "9ada9928-1ab5-4848-9706-a06124124146",
   "metadata": {},
   "outputs": [],
   "source": []
  }
 ],
 "metadata": {
  "kernelspec": {
   "display_name": "Python 3 (ipykernel)",
   "language": "python",
   "name": "python3"
  },
  "language_info": {
   "codemirror_mode": {
    "name": "ipython",
    "version": 3
   },
   "file_extension": ".py",
   "mimetype": "text/x-python",
   "name": "python",
   "nbconvert_exporter": "python",
   "pygments_lexer": "ipython3",
   "version": "3.10.11"
  }
 },
 "nbformat": 4,
 "nbformat_minor": 5
}
