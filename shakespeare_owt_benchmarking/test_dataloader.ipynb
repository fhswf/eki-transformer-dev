{
 "cells": [
  {
   "cell_type": "code",
   "execution_count": 2,
   "id": "7d7642d4-9294-426c-a533-8d9de865aed0",
   "metadata": {
    "tags": []
   },
   "outputs": [],
   "source": [
    "from qtransform.dataset import MemmapDataset\n",
    "import numpy as np\n",
    "from torch.utils.data import DataLoader"
   ]
  },
  {
   "cell_type": "code",
   "execution_count": 7,
   "id": "8b91bd83-7c79-47a3-afc1-e429fc945611",
   "metadata": {
    "tags": []
   },
   "outputs": [],
   "source": [
    "dataset = MemmapDataset('/home/mabot004/.qtransform/datasets/huggingface/openwebtext/tokenized/gpt2/openwebtext-float32.bin', \n",
    "                        dtype=np.float32, block_size=64, start=0.3, end=0.35)\n",
    "dataloader = DataLoader(dataset, batch_size=64, shuffle=False) #shuffling will load the entire dataset into memory, problematic for openwebtext"
   ]
  },
  {
   "cell_type": "code",
   "execution_count": 8,
   "id": "b8720653-90f4-4a15-b536-c0b9349aa619",
   "metadata": {
    "tags": []
   },
   "outputs": [],
   "source": [
    "#test \n",
    "def load_data(container, dataloader):\n",
    "    for i, data in enumerate(dataloader):\n",
    "        if i == 10:\n",
    "            break\n",
    "        container.append(data)"
   ]
  },
  {
   "cell_type": "code",
   "execution_count": 9,
   "id": "30c1a220-e1a0-4a59-9444-fa1830d73f93",
   "metadata": {
    "tags": []
   },
   "outputs": [],
   "source": [
    "sample, sample2 = (list(), list())\n",
    "load_data(sample, dataloader)\n",
    "load_data(sample2, dataloader)"
   ]
  },
  {
   "cell_type": "code",
   "execution_count": 17,
   "id": "7adf6a03-5959-425f-8744-7fe27fcd8eb5",
   "metadata": {
    "tags": []
   },
   "outputs": [
    {
     "name": "stdout",
     "output_type": "stream",
     "text": [
      "10 10\n"
     ]
    }
   ],
   "source": [
    "#test if tensors for two different iterations are the same\n",
    "def test_data(sample, sample2):\n",
    "    same_input = 0\n",
    "    same_label = 0\n",
    "    for i in range(10):\n",
    "        if sample[i][0].equal(sample2[i][0]):\n",
    "            same_input += 1\n",
    "        if sample[i][1].equal(sample2[i][1]):\n",
    "            same_label += 1\n",
    "    return same_input, same_label\n",
    "same_input, same_label = test_data(sample, sample2)\n",
    "print(same_input, same_label)"
   ]
  },
  {
   "cell_type": "code",
   "execution_count": 18,
   "id": "e56731c2-0da2-4cbc-b064-5bfbd2ef3a8e",
   "metadata": {
    "tags": []
   },
   "outputs": [
    {
     "name": "stdout",
     "output_type": "stream",
     "text": [
      "0 0\n"
     ]
    }
   ],
   "source": [
    "#now test with converting dataloader before iteration\n",
    "del sample\n",
    "del sample2\n",
    "sample, sample2 = (list(), list())\n",
    "dataloader_iter = iter(dataloader)\n",
    "load_data(sample, dataloader_iter)\n",
    "load_data(sample2, dataloader_iter)\n",
    "same_input, same_label = test_data(sample, sample2)\n",
    "print(same_input, same_label)"
   ]
  },
  {
   "cell_type": "code",
   "execution_count": null,
   "id": "6f8619d7-4793-4df5-8a7f-b2249f2b1642",
   "metadata": {},
   "outputs": [],
   "source": []
  }
 ],
 "metadata": {
  "kernelspec": {
   "display_name": "eki",
   "language": "python",
   "name": "eki"
  },
  "language_info": {
   "codemirror_mode": {
    "name": "ipython",
    "version": 3
   },
   "file_extension": ".py",
   "mimetype": "text/x-python",
   "name": "python",
   "nbconvert_exporter": "python",
   "pygments_lexer": "ipython3",
   "version": "3.10.11"
  }
 },
 "nbformat": 4,
 "nbformat_minor": 5
}
