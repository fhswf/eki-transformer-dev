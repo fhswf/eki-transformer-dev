{
 "cells": [
  {
   "cell_type": "markdown",
   "id": "bc68ec43-3657-42a4-b936-c25a2410d9ac",
   "metadata": {},
   "source": [
    "## Train a GPT2 Transformer model with wikitext using BatchNorm/ LayerNorm and ReLU/ GELU"
   ]
  },
  {
   "cell_type": "code",
   "execution_count": 2,
   "id": "811f5984-dd43-42fc-a60a-46115a11ef10",
   "metadata": {
    "tags": []
   },
   "outputs": [
    {
     "name": "stdout",
     "output_type": "stream",
     "text": [
      "/home/makuh001/eki/eki-transformer-dev/qtransform/qtransform/conf\n"
     ]
    }
   ],
   "source": [
    "import os\n",
    "from hydra import initialize, initialize_config_module, initialize_config_dir, compose\n",
    "from omegaconf import OmegaConf\n",
    "import qtransform\n",
    "import torch\n",
    "from brevitas import nn as qnn\n",
    "# Manually load some logging conf\n",
    "config_path = qtransform.get_module_config_path()\n",
    "print(config_path)\n",
    "import logging\n",
    "import yaml\n",
    "with open(os.path.join(config_path, 'hydra','job_logging', 'custom.yaml'), 'r') as stream:\n",
    "    config = yaml.load(stream, Loader=yaml.FullLoader)\n",
    "\n",
    "logging.config.dictConfig(config)\n",
    "logging.getLogger().setLevel(logging.INFO)"
   ]
  },
  {
   "cell_type": "markdown",
   "id": "8bebfbb1-377b-45e3-ad42-29b32048a243",
   "metadata": {},
   "source": [
    "### Hyperparameters\n",
    "#### 10.000 Iterations in total with a small GPT model"
   ]
  },
  {
   "cell_type": "code",
   "execution_count": 11,
   "id": "7b43596d-18e0-4cfb-b467-d225d65b5aac",
   "metadata": {
    "tags": []
   },
   "outputs": [],
   "source": [
    "#from: https://github.com/karpathy/nanoGPT/blob/master/config/train_shakespeare_char.py and https://github.com/karpathy/nanoGPT/blob/master/config/train_gpt2.py\n",
    "#karpathy used a larger transformer model for openwebtext alongside more epochs\n",
    "\n",
    "DATASET = \"wikitext\"\n",
    "SUBSET = \"wikitext-103-raw-v1\"\n",
    "\n",
    "eval_epoch_interval = str(1) # every epoch, meaning after max_iters\n",
    "eval_iters = str(200)\n",
    "max_iters = str(500)\n",
    "epochs = \"20\" #eval after every epoch, karpathy has 5000 max_iters in total -> epoch = max_iters / eval_interval \n",
    "gradient_accumulation_steps = \"2\"\n",
    "batch_size = \"32\"\n",
    "\n",
    "grad_clip=\"1.0\"\n",
    "\n",
    "dropout = \"0.1\"\n",
    "\n",
    "learning_rate = str(1e-3) # with baby networks can afford to go a bit higher\n",
    "seed = \"1337\"\n",
    "\n",
    "step_size = epochs\n",
    "args = [\n",
    "    'seed='+seed,\n",
    "    'run=train',\n",
    "    'run.export=False',\n",
    "    'run.epochs='+epochs,\n",
    "    'run.max_iters='+max_iters,\n",
    "    'run.eval_epoch_interval='+eval_epoch_interval,\n",
    "    'run.eval_iters='+eval_iters,\n",
    "    'run.grad_clip='+grad_clip,\n",
    "    #run.gradient_accumulation_steps='+gradient_accumulation_steps,\n",
    "    'model.args.dropout='+dropout,\n",
    "    'dataset=huggingface',\n",
    "    'dataset.name='+DATASET,\n",
    "    'dataset.subset='+SUBSET,\n",
    "    'dataset/tokenizer=tiktoken',\n",
    "    'dataset.tokenizer.encoding=gpt2',\n",
    "    'dataset.dataloader.shuffle=False',\n",
    "    'dataset.dataloader.batch_size='+batch_size,\n",
    "    #'optim.args.learning_rate='+learning_rate,\n",
    "    #'optim.scheduler.schedulers.1.args.step_size='+step_size,\n",
    "    'device=cuda',\n",
    "    #'debug=True',\n",
    "]"
   ]
  },
  {
   "cell_type": "markdown",
   "id": "e6945b34-5419-412c-aaa8-3aaabc513f5d",
   "metadata": {},
   "source": [
    "#### ReLU BatchNorm"
   ]
  },
  {
   "cell_type": "code",
   "execution_count": 12,
   "id": "c69105c8-72c2-4a4a-ae46-5f121eba03d3",
   "metadata": {
    "tags": []
   },
   "outputs": [
    {
     "name": "stdout",
     "output_type": "stream",
     "text": [
      "{'data': {'dtype': 'float32'}, 'device': 'cuda', 'debug': False, 'dataset': {'wrapper': 'HuggingfaceDatasetWrapper', 'module': 'huggingface', 'name': 'wikitext', 'root_path': '~/.qtransform/datasets', 'dataset_dir': ['${dataset.root_path}', '${dataset.module}', '${dataset.name}'], 'sizes': {'train': 0.0, 'eval': 0.0, 'bench': 0.0}, 'tokenizer': {'dtype': '${data.dtype}', 'meta_file': 'meta.pkl', 'wrapper': 'TikTokenizer', 'encoding': 'gpt2', 'module': 'tiktoken'}, 'dataloader': {'shuffle': False, 'num_workers': 2, 'batch_size': 32}, 'subset': 'wikitext-103-raw-v1', 'type': 'huggingface', 'splits': {'names': {'train': 'train', 'eval': 'validation', 'bench': 'test'}, 'sizes': {'train': 0.9, 'eval': 0.05, 'bench': 0.05}}, 'args': {'block_size': '${model.args.block_size}', 'cache_dir': None, 'data_column_name': 'text', 'batches': 1000, 'chunking': True, 'chunk_size': 100}}, 'seed': 1337, 'model': {'calc_loss_in_model': True, 'cls': 'GPT', 'args': {'n_layer': 4, 'n_head': 4, 'n_embd': 256, 'dropout': 0.1, 'bias': True, 'block_size': 256, 'vocab_size': 50304, 'transformer_active_func': 'ReLU', 'norm_layer': 'BatchNormIdPure', 'flash': False, 'single_output': False, 'use_weight_tying': True}}, 'quantization': {'quantize': False}, 'pipe': '/dev/null', 'optim': {'optimizer': 'AdamW', 'args': {'learning_rate': 0.00015, 'weight_decay': 0.1, 'betas': [0.9, 0.95]}, 'scheduler': {'decay_lr': True, 'schedulers': {'1': {'name': 'StepLR', 'args': {'step_size': 1, 'gamma': 0.1}}}, 'milestones': None, 'warmup_epochs': 2}}, 'run': {'command': 'train', 'always_save_checkpoint': True, 'checkpoint_dir': 'models', 'from_checkpoint': None, 'from_pretrained': None, 'epochs': 20, 'gradient_accumulation_steps': 1, 'flash': False, 'export': False, 'compile': True, 'max_iters': 500, 'save_epoch_interval': 1, 'log_steps_interval': 10, 'grad_clip': 1.0, 'eval_epoch_interval': 1, 'eval_iters': 200, 'profile': {'active': False, 'args': {'record_shapes': True, 'profile_memory': True, 'use_cuda': True}, 'row_limit': 10}}}\n",
      "[ \u001b[36m2024-03-07 08:21:31,827 \u001b[0m][\u001b[2;37mqtransform.run.train\u001b[0m][\u001b[32mINFO\u001b[0m] - \u001b[32m================\u001b[0m\n",
      "[ \u001b[36m2024-03-07 08:21:31,830 \u001b[0m][\u001b[2;37mqtransform.run.train\u001b[0m][\u001b[32mINFO\u001b[0m] - \u001b[32mRunning Training\u001b[0m\n",
      "[ \u001b[36m2024-03-07 08:21:31,832 \u001b[0m][\u001b[2;37mqtransform.run.train\u001b[0m][\u001b[32mINFO\u001b[0m] - \u001b[32m================\u001b[0m\n",
      "[ \u001b[36m2024-03-07 08:21:31,834 \u001b[0m][\u001b[2;37mqtransform.run.train\u001b[0m][\u001b[32mINFO\u001b[0m] - \u001b[32mtime is: 2024-03-07_08:21:31\u001b[0m\n",
      "[ \u001b[36m2024-03-07 08:21:31,836 \u001b[0m][\u001b[2;37mqtransform\u001b[0m][\u001b[32mINFO\u001b[0m] - \u001b[32mDevice specified: cuda. Using device: cuda\u001b[0m\n",
      "[ \u001b[36m2024-03-07 08:21:31,838 \u001b[0m][\u001b[2;37mqtransform.run.train\u001b[0m][\u001b[32mINFO\u001b[0m] - \u001b[32mnumber of torch dataloader: 2\u001b[0m\n",
      "[ \u001b[36m2024-03-07 08:21:31,848 \u001b[0m][\u001b[2;37mqtransform.dataset\u001b[0m][\u001b[32mINFO\u001b[0m] - \u001b[32mLoading dataset: wikitext, with encoding: gpt2 and dtype: float32\u001b[0m\n",
      "[ \u001b[36m2024-03-07 08:21:31,851 \u001b[0m][\u001b[2;37mqtransform.dataset\u001b[0m][\u001b[32mINFO\u001b[0m] - \u001b[32mAttempting to retrieve tokenized dataset under \"/home/makuh001/.qtransform/datasets/huggingface/wikitext/tokenized/gpt2/train-wikitext-103-raw-v1-float32.bin\"\u001b[0m\n",
      "[ \u001b[36m2024-03-07 08:21:31,854 \u001b[0m][\u001b[2;37mqtransform.dataset\u001b[0m][\u001b[32mINFO\u001b[0m] - \u001b[32mLoaded data has 123368382 tokens.\u001b[0m\n",
      "[ \u001b[36m2024-03-07 08:21:31,856 \u001b[0m][\u001b[2;37mqtransform.dataset\u001b[0m][\u001b[32mINFO\u001b[0m] - \u001b[32mAttempting to retrieve tokenized dataset under \"/home/makuh001/.qtransform/datasets/huggingface/wikitext/tokenized/gpt2/eval-wikitext-103-raw-v1-float32.bin\"\u001b[0m\n",
      "[ \u001b[36m2024-03-07 08:21:31,858 \u001b[0m][\u001b[2;37mqtransform.dataset\u001b[0m][\u001b[32mINFO\u001b[0m] - \u001b[32mLoaded data has 258896 tokens.\u001b[0m\n",
      "[ \u001b[36m2024-03-07 08:21:31,861 \u001b[0m][\u001b[2;37mqtransform.dataset\u001b[0m][\u001b[32mINFO\u001b[0m] - \u001b[32mAttempting to retrieve tokenized dataset under \"/home/makuh001/.qtransform/datasets/huggingface/wikitext/tokenized/gpt2/bench-wikitext-103-raw-v1-float32.bin\"\u001b[0m\n",
      "[ \u001b[36m2024-03-07 08:21:31,864 \u001b[0m][\u001b[2;37mqtransform.dataset\u001b[0m][\u001b[32mINFO\u001b[0m] - \u001b[32mLoaded data has 296271 tokens.\u001b[0m\n",
      "[ \u001b[36m2024-03-07 08:21:31,872 \u001b[0m][\u001b[2;37mqtransform.run.train\u001b[0m][\u001b[33mWARNING\u001b[0m] - \u001b[33mVocab size of model is larger than the tokenizer vocab. vocab_size of model: 50304, vocab size of tokenizer 50256\u001b[0m\n",
      "[ \u001b[36m2024-03-07 08:21:31,878 \u001b[0m][\u001b[2;37mqtransform.model.gpt\u001b[0m][\u001b[32mINFO\u001b[0m] - \u001b[32mModel config: GPTConfig(block_size=256, vocab_size=50304, n_layer=4, n_head=4, n_embd=256, dropout=0.1, bias=True, flash=False, transformer_active_func='ReLU', norm_layer='BatchNormIdPure', single_output=False, use_weight_tying=True, custom_ln=False, use_causal=False)\u001b[0m\n",
      "50304 256\n",
      "[ \u001b[36m2024-03-07 08:21:31,982 \u001b[0m][\u001b[2;37mqtransform.model.modules\u001b[0m][\u001b[33mWARNING\u001b[0m] - \u001b[33mWARNING: using slow attention. Flash Attention requires PyTorch >= 2.2\u001b[0m\n",
      "[ \u001b[36m2024-03-07 08:21:32,012 \u001b[0m][\u001b[2;37mqtransform.model.modules\u001b[0m][\u001b[33mWARNING\u001b[0m] - \u001b[33mWARNING: using slow attention. Flash Attention requires PyTorch >= 2.2\u001b[0m\n",
      "[ \u001b[36m2024-03-07 08:21:32,096 \u001b[0m][\u001b[2;37mqtransform.model.modules\u001b[0m][\u001b[33mWARNING\u001b[0m] - \u001b[33mWARNING: using slow attention. Flash Attention requires PyTorch >= 2.2\u001b[0m\n",
      "[ \u001b[36m2024-03-07 08:21:32,376 \u001b[0m][\u001b[2;37mqtransform.model.modules\u001b[0m][\u001b[33mWARNING\u001b[0m] - \u001b[33mWARNING: using slow attention. Flash Attention requires PyTorch >= 2.2\u001b[0m\n",
      "[ \u001b[36m2024-03-07 08:21:32,394 \u001b[0m][\u001b[2;37mqtransform.model.modules\u001b[0m][\u001b[33mWARNING\u001b[0m] - \u001b[33mWARNING: using slow attention. Flash Attention requires PyTorch >= 2.2\u001b[0m\n",
      "[ \u001b[36m2024-03-07 08:21:32,483 \u001b[0m][\u001b[2;37mqtransform.model.modules\u001b[0m][\u001b[33mWARNING\u001b[0m] - \u001b[33mWARNING: using slow attention. Flash Attention requires PyTorch >= 2.2\u001b[0m\n",
      "[ \u001b[36m2024-03-07 08:21:32,681 \u001b[0m][\u001b[2;37mqtransform.model.modules\u001b[0m][\u001b[33mWARNING\u001b[0m] - \u001b[33mWARNING: using slow attention. Flash Attention requires PyTorch >= 2.2\u001b[0m\n",
      "[ \u001b[36m2024-03-07 08:21:32,888 \u001b[0m][\u001b[2;37mqtransform.model.modules\u001b[0m][\u001b[33mWARNING\u001b[0m] - \u001b[33mWARNING: using slow attention. Flash Attention requires PyTorch >= 2.2\u001b[0m\n",
      "[ \u001b[36m2024-03-07 08:21:33,136 \u001b[0m][\u001b[2;37mqtransform.model.gpt\u001b[0m][\u001b[32mINFO\u001b[0m] - \u001b[32mnumber of parameters: 29.97M\u001b[0m\n",
      "GPTConfig(block_size=256, vocab_size=50304, n_layer=4, n_head=4, n_embd=256, dropout=0.1, bias=True, flash=False, transformer_active_func='ReLU', norm_layer='BatchNormIdPure', single_output=False, use_weight_tying=True, custom_ln=False, use_causal=False)\n",
      "[ \u001b[36m2024-03-07 08:21:33,198 \u001b[0m][\u001b[2;37mqtransform.run.train\u001b[0m][\u001b[32mINFO\u001b[0m] - \u001b[32mStarting new training\u001b[0m\n",
      "[ \u001b[36m2024-03-07 08:21:33,201 \u001b[0m][\u001b[2;37mqtransform.run.train\u001b[0m][\u001b[32mINFO\u001b[0m] - \u001b[32mEPOCH: 1/20\u001b[0m\n",
      "[ \u001b[36m2024-03-07 08:21:38,397 \u001b[0m][\u001b[2;37mqtransform.run.train\u001b[0m][\u001b[32mINFO\u001b[0m] - \u001b[32m  batch 10 loss: 10.619334316253662. time: 5094.76ms\u001b[0m\n"
     ]
    },
    {
     "ename": "KeyboardInterrupt",
     "evalue": "",
     "output_type": "error",
     "traceback": [
      "\u001b[0;31m---------------------------------------------------------------------------\u001b[0m",
      "\u001b[0;31mKeyboardInterrupt\u001b[0m                         Traceback (most recent call last)",
      "Cell \u001b[0;32mIn[12], line 3\u001b[0m\n\u001b[1;32m      1\u001b[0m model \u001b[38;5;241m=\u001b[39m \u001b[38;5;124m\"\u001b[39m\u001b[38;5;124mBENCH_gpt2_ReBNP_smaller\u001b[39m\u001b[38;5;124m\"\u001b[39m\n\u001b[1;32m      2\u001b[0m args\u001b[38;5;241m.\u001b[39mappend(\u001b[38;5;124m\"\u001b[39m\u001b[38;5;124mmodel=\u001b[39m\u001b[38;5;124m\"\u001b[39m\u001b[38;5;241m+\u001b[39mmodel)\n\u001b[0;32m----> 3\u001b[0m \u001b[43mqtransform\u001b[49m\u001b[38;5;241;43m.\u001b[39;49m\u001b[43mnotebook_run\u001b[49m\u001b[43m(\u001b[49m\u001b[43margs\u001b[49m\u001b[43m,\u001b[49m\u001b[43m \u001b[49m\u001b[43mlogging\u001b[49m\u001b[38;5;241;43m.\u001b[39;49m\u001b[43mINFO\u001b[49m\u001b[43m)\u001b[49m\n",
      "File \u001b[0;32m~/eki/eki-transformer-dev/qtransform/qtransform/__init__.py:37\u001b[0m, in \u001b[0;36mnotebook_run\u001b[0;34m(args, loglevel)\u001b[0m\n\u001b[1;32m     35\u001b[0m cfg \u001b[38;5;241m=\u001b[39m compose(config_name\u001b[38;5;241m=\u001b[39m\u001b[38;5;124m\"\u001b[39m\u001b[38;5;124mconfig.yaml\u001b[39m\u001b[38;5;124m\"\u001b[39m, overrides\u001b[38;5;241m=\u001b[39margs)\n\u001b[1;32m     36\u001b[0m \u001b[38;5;28mprint\u001b[39m(cfg)\n\u001b[0;32m---> 37\u001b[0m \u001b[43mmain\u001b[49m\u001b[43m(\u001b[49m\u001b[43mcfg\u001b[49m\u001b[43m)\u001b[49m\n",
      "File \u001b[0;32m~/eki/eki-transformer-dev/qtransform/qtransform/__init__.py:14\u001b[0m, in \u001b[0;36mmain\u001b[0;34m(cfg)\u001b[0m\n\u001b[1;32m     12\u001b[0m \u001b[38;5;250m\u001b[39m\u001b[38;5;124;03m\"\"\"Run this app like amodule, Note: cfg is a Hydra config (OmegaConf Object)\"\"\"\u001b[39;00m\n\u001b[1;32m     13\u001b[0m \u001b[38;5;28;01mfrom\u001b[39;00m \u001b[38;5;21;01mqtransform\u001b[39;00m \u001b[38;5;28;01mimport\u001b[39;00m  __main__ \u001b[38;5;28;01mas\u001b[39;00m mn\n\u001b[0;32m---> 14\u001b[0m \u001b[43mmn\u001b[49m\u001b[38;5;241;43m.\u001b[39;49m\u001b[43mmain\u001b[49m\u001b[43m(\u001b[49m\u001b[43mcfg\u001b[49m\u001b[43m)\u001b[49m\n",
      "File \u001b[0;32m~/eki/eki-transformer-dev/qtransform/qtransform/__main__.py:44\u001b[0m, in \u001b[0;36mmain\u001b[0;34m(cfg)\u001b[0m\n\u001b[1;32m     42\u001b[0m \u001b[38;5;28;01mcase\u001b[39;00m \u001b[38;5;124m\"\u001b[39m\u001b[38;5;124mtrain\u001b[39m\u001b[38;5;124m\"\u001b[39m:          \n\u001b[1;32m     43\u001b[0m     \u001b[38;5;28;01mfrom\u001b[39;00m \u001b[38;5;21;01mqtransform\u001b[39;00m\u001b[38;5;21;01m.\u001b[39;00m\u001b[38;5;21;01mrun\u001b[39;00m \u001b[38;5;28;01mimport\u001b[39;00m train\n\u001b[0;32m---> 44\u001b[0m     \u001b[38;5;28;01mreturn\u001b[39;00m  \u001b[43mtrain\u001b[49m\u001b[38;5;241;43m.\u001b[39;49m\u001b[43mrun\u001b[49m\u001b[43m(\u001b[49m\u001b[43mcfg\u001b[49m\u001b[43m)\u001b[49m\n\u001b[1;32m     45\u001b[0m \u001b[38;5;28;01mcase\u001b[39;00m \u001b[38;5;124m\"\u001b[39m\u001b[38;5;124mbench\u001b[39m\u001b[38;5;124m\"\u001b[39m:\n\u001b[1;32m     46\u001b[0m     \u001b[38;5;28;01mfrom\u001b[39;00m \u001b[38;5;21;01mqtransform\u001b[39;00m\u001b[38;5;21;01m.\u001b[39;00m\u001b[38;5;21;01mrun\u001b[39;00m \u001b[38;5;28;01mimport\u001b[39;00m bench\n",
      "File \u001b[0;32m~/eki/eki-transformer-dev/qtransform/qtransform/run/train.py:119\u001b[0m, in \u001b[0;36mrun\u001b[0;34m(cfg)\u001b[0m\n\u001b[1;32m    116\u001b[0m         model, _ \u001b[38;5;241m=\u001b[39m quantizer\u001b[38;5;241m.\u001b[39mget_quantized_model(replace_layers_later)\n\u001b[1;32m    117\u001b[0m \u001b[38;5;28;01melse\u001b[39;00m:\n\u001b[1;32m    118\u001b[0m     \u001b[38;5;66;03m#if hasattr(log,\"trace\"): log.trace(model)\u001b[39;00m\n\u001b[0;32m--> 119\u001b[0m     last_checkpoint \u001b[38;5;241m=\u001b[39m \u001b[43mtrain\u001b[49m\u001b[43m(\u001b[49m\u001b[43mcfg\u001b[49m\u001b[38;5;241;43m=\u001b[39;49m\u001b[43mcfg\u001b[49m\u001b[43m,\u001b[49m\u001b[43m \u001b[49m\u001b[43mdevice\u001b[49m\u001b[38;5;241;43m=\u001b[39;49m\u001b[43mdevice\u001b[49m\u001b[43m,\u001b[49m\u001b[43m \u001b[49m\u001b[43mmodel\u001b[49m\u001b[38;5;241;43m=\u001b[39;49m\u001b[43mmodel\u001b[49m\u001b[43m,\u001b[49m\u001b[43m \u001b[49m\u001b[43mtrain_data_loader\u001b[49m\u001b[38;5;241;43m=\u001b[39;49m\u001b[43mtrain_dataloader\u001b[49m\u001b[43m,\u001b[49m\u001b[43m \u001b[49m\u001b[43meval_data_loader\u001b[49m\u001b[38;5;241;43m=\u001b[39;49m\u001b[43meval_dataloader\u001b[49m\u001b[43m,\u001b[49m\u001b[43m \u001b[49m\u001b[43moptimizer\u001b[49m\u001b[38;5;241;43m=\u001b[39;49m\u001b[43moptimizer\u001b[49m\u001b[43m,\u001b[49m\u001b[43m \u001b[49m\u001b[43mscheduler\u001b[49m\u001b[38;5;241;43m=\u001b[39;49m\u001b[43mscheduler\u001b[49m\u001b[43m,\u001b[49m\u001b[43m \u001b[49m\u001b[43mtimestamp\u001b[49m\u001b[38;5;241;43m=\u001b[39;49m\u001b[43mtimestamp\u001b[49m\u001b[43m)\u001b[49m\n\u001b[1;32m    120\u001b[0m \u001b[38;5;66;03m# maybe subsequent jobs can be managed by hydra in the future?\u001b[39;00m\n\u001b[1;32m    121\u001b[0m \u001b[38;5;66;03m# when this paradigm comes up more frequently we have to make this a thing ....\u001b[39;00m\n\u001b[1;32m    122\u001b[0m log\u001b[38;5;241m.\u001b[39mdebug(\u001b[38;5;124m\"\u001b[39m\u001b[38;5;124mFinished training model\u001b[39m\u001b[38;5;124m\"\u001b[39m)\n",
      "File \u001b[0;32m~/eki/eki-transformer-dev/qtransform/qtransform/run/train.py:224\u001b[0m, in \u001b[0;36mtrain\u001b[0;34m(model, cfg, device, train_data_loader, eval_data_loader, optimizer, scheduler, timestamp)\u001b[0m\n\u001b[1;32m    222\u001b[0m     log\u001b[38;5;241m.\u001b[39minfo(\u001b[38;5;124mf\u001b[39m\u001b[38;5;124m'\u001b[39m\u001b[38;5;130;01m\\n\u001b[39;00m\u001b[38;5;132;01m{\u001b[39;00mprof\u001b[38;5;241m.\u001b[39mkey_averages()\u001b[38;5;241m.\u001b[39mtable(sort_by\u001b[38;5;241m=\u001b[39m\u001b[38;5;124m\"\u001b[39m\u001b[38;5;124mcpu_time_total\u001b[39m\u001b[38;5;124m\"\u001b[39m,\u001b[38;5;250m \u001b[39mrow_limit\u001b[38;5;241m=\u001b[39mrow_limit)\u001b[38;5;132;01m}\u001b[39;00m\u001b[38;5;124m'\u001b[39m)\n\u001b[1;32m    223\u001b[0m \u001b[38;5;28;01melse\u001b[39;00m:\n\u001b[0;32m--> 224\u001b[0m     metrics \u001b[38;5;241m=\u001b[39m \u001b[43mtrain_one_epoch\u001b[49m\u001b[43m(\u001b[49m\u001b[43mcfg\u001b[49m\u001b[43m,\u001b[49m\u001b[43m \u001b[49m\u001b[43mdevice\u001b[49m\u001b[43m,\u001b[49m\u001b[43m \u001b[49m\u001b[43mmodel\u001b[49m\u001b[43m,\u001b[49m\u001b[43m \u001b[49m\u001b[38;5;28;43miter\u001b[39;49m\u001b[43m(\u001b[49m\u001b[43mtrain_data_loader\u001b[49m\u001b[43m)\u001b[49m\u001b[43m,\u001b[49m\u001b[43m \u001b[49m\u001b[43moptimizer\u001b[49m\u001b[43m,\u001b[49m\u001b[43m \u001b[49m\u001b[43mmini_run\u001b[49m\u001b[43m)\u001b[49m\n\u001b[1;32m    226\u001b[0m \u001b[38;5;66;03m## eval\u001b[39;00m\n\u001b[1;32m    227\u001b[0m \u001b[38;5;28;01mif\u001b[39;00m epoch \u001b[38;5;241m%\u001b[39m cfg\u001b[38;5;241m.\u001b[39mrun\u001b[38;5;241m.\u001b[39meval_epoch_interval \u001b[38;5;241m==\u001b[39m \u001b[38;5;241m0\u001b[39m \u001b[38;5;129;01mand\u001b[39;00m eval_data_loader \u001b[38;5;129;01mis\u001b[39;00m \u001b[38;5;129;01mnot\u001b[39;00m \u001b[38;5;28;01mNone\u001b[39;00m:\n",
      "File \u001b[0;32m~/eki/eki-transformer-dev/qtransform/qtransform/run/train.py:286\u001b[0m, in \u001b[0;36mtrain_one_epoch\u001b[0;34m(cfg, device, model, train_data, optimizer, mini_run)\u001b[0m\n\u001b[1;32m    284\u001b[0m labels \u001b[38;5;241m=\u001b[39m labels\u001b[38;5;241m.\u001b[39mto(device_singleton\u001b[38;5;241m.\u001b[39mdevice)\n\u001b[1;32m    285\u001b[0m \u001b[38;5;28;01mif\u001b[39;00m cfg\u001b[38;5;241m.\u001b[39mmodel\u001b[38;5;241m.\u001b[39mcalc_loss_in_model:\n\u001b[0;32m--> 286\u001b[0m     outputs, loss \u001b[38;5;241m=\u001b[39m \u001b[43mmodel\u001b[49m\u001b[43m(\u001b[49m\u001b[43minputs\u001b[49m\u001b[43m,\u001b[49m\u001b[43m \u001b[49m\u001b[43mlabels\u001b[49m\u001b[43m)\u001b[49m\n\u001b[1;32m    287\u001b[0m \u001b[38;5;28;01melse\u001b[39;00m:\n\u001b[1;32m    288\u001b[0m     outputs, _ \u001b[38;5;241m=\u001b[39m model(inputs)\n",
      "File \u001b[0;32m/opt/conda/lib/python3.10/site-packages/torch/nn/modules/module.py:1501\u001b[0m, in \u001b[0;36mModule._call_impl\u001b[0;34m(self, *args, **kwargs)\u001b[0m\n\u001b[1;32m   1496\u001b[0m \u001b[38;5;66;03m# If we don't have any hooks, we want to skip the rest of the logic in\u001b[39;00m\n\u001b[1;32m   1497\u001b[0m \u001b[38;5;66;03m# this function, and just call forward.\u001b[39;00m\n\u001b[1;32m   1498\u001b[0m \u001b[38;5;28;01mif\u001b[39;00m \u001b[38;5;129;01mnot\u001b[39;00m (\u001b[38;5;28mself\u001b[39m\u001b[38;5;241m.\u001b[39m_backward_hooks \u001b[38;5;129;01mor\u001b[39;00m \u001b[38;5;28mself\u001b[39m\u001b[38;5;241m.\u001b[39m_backward_pre_hooks \u001b[38;5;129;01mor\u001b[39;00m \u001b[38;5;28mself\u001b[39m\u001b[38;5;241m.\u001b[39m_forward_hooks \u001b[38;5;129;01mor\u001b[39;00m \u001b[38;5;28mself\u001b[39m\u001b[38;5;241m.\u001b[39m_forward_pre_hooks\n\u001b[1;32m   1499\u001b[0m         \u001b[38;5;129;01mor\u001b[39;00m _global_backward_pre_hooks \u001b[38;5;129;01mor\u001b[39;00m _global_backward_hooks\n\u001b[1;32m   1500\u001b[0m         \u001b[38;5;129;01mor\u001b[39;00m _global_forward_hooks \u001b[38;5;129;01mor\u001b[39;00m _global_forward_pre_hooks):\n\u001b[0;32m-> 1501\u001b[0m     \u001b[38;5;28;01mreturn\u001b[39;00m \u001b[43mforward_call\u001b[49m\u001b[43m(\u001b[49m\u001b[38;5;241;43m*\u001b[39;49m\u001b[43margs\u001b[49m\u001b[43m,\u001b[49m\u001b[43m \u001b[49m\u001b[38;5;241;43m*\u001b[39;49m\u001b[38;5;241;43m*\u001b[39;49m\u001b[43mkwargs\u001b[49m\u001b[43m)\u001b[49m\n\u001b[1;32m   1502\u001b[0m \u001b[38;5;66;03m# Do not call functions when jit is used\u001b[39;00m\n\u001b[1;32m   1503\u001b[0m full_backward_hooks, non_full_backward_hooks \u001b[38;5;241m=\u001b[39m [], []\n",
      "File \u001b[0;32m~/eki/eki-transformer-dev/qtransform/qtransform/model/gpt.py:158\u001b[0m, in \u001b[0;36mGPT.forward\u001b[0;34m(self, idx, targets)\u001b[0m\n\u001b[1;32m    156\u001b[0m x \u001b[38;5;241m=\u001b[39m \u001b[38;5;28mself\u001b[39m\u001b[38;5;241m.\u001b[39mtransformer\u001b[38;5;241m.\u001b[39mdropout(x)\n\u001b[1;32m    157\u001b[0m \u001b[38;5;28;01mfor\u001b[39;00m block \u001b[38;5;129;01min\u001b[39;00m \u001b[38;5;28mself\u001b[39m\u001b[38;5;241m.\u001b[39mtransformer\u001b[38;5;241m.\u001b[39mlayer:\n\u001b[0;32m--> 158\u001b[0m     x \u001b[38;5;241m=\u001b[39m \u001b[43mblock\u001b[49m\u001b[43m(\u001b[49m\u001b[43mx\u001b[49m\u001b[43m)\u001b[49m\n\u001b[1;32m    159\u001b[0m \u001b[38;5;28;01mif\u001b[39;00m \u001b[38;5;28mself\u001b[39m\u001b[38;5;241m.\u001b[39mnorm_size:\n\u001b[1;32m    160\u001b[0m     x \u001b[38;5;241m=\u001b[39m \u001b[38;5;28mself\u001b[39m\u001b[38;5;241m.\u001b[39mtransformer\u001b[38;5;241m.\u001b[39mln_out(x)\n",
      "File \u001b[0;32m/opt/conda/lib/python3.10/site-packages/torch/nn/modules/module.py:1501\u001b[0m, in \u001b[0;36mModule._call_impl\u001b[0;34m(self, *args, **kwargs)\u001b[0m\n\u001b[1;32m   1496\u001b[0m \u001b[38;5;66;03m# If we don't have any hooks, we want to skip the rest of the logic in\u001b[39;00m\n\u001b[1;32m   1497\u001b[0m \u001b[38;5;66;03m# this function, and just call forward.\u001b[39;00m\n\u001b[1;32m   1498\u001b[0m \u001b[38;5;28;01mif\u001b[39;00m \u001b[38;5;129;01mnot\u001b[39;00m (\u001b[38;5;28mself\u001b[39m\u001b[38;5;241m.\u001b[39m_backward_hooks \u001b[38;5;129;01mor\u001b[39;00m \u001b[38;5;28mself\u001b[39m\u001b[38;5;241m.\u001b[39m_backward_pre_hooks \u001b[38;5;129;01mor\u001b[39;00m \u001b[38;5;28mself\u001b[39m\u001b[38;5;241m.\u001b[39m_forward_hooks \u001b[38;5;129;01mor\u001b[39;00m \u001b[38;5;28mself\u001b[39m\u001b[38;5;241m.\u001b[39m_forward_pre_hooks\n\u001b[1;32m   1499\u001b[0m         \u001b[38;5;129;01mor\u001b[39;00m _global_backward_pre_hooks \u001b[38;5;129;01mor\u001b[39;00m _global_backward_hooks\n\u001b[1;32m   1500\u001b[0m         \u001b[38;5;129;01mor\u001b[39;00m _global_forward_hooks \u001b[38;5;129;01mor\u001b[39;00m _global_forward_pre_hooks):\n\u001b[0;32m-> 1501\u001b[0m     \u001b[38;5;28;01mreturn\u001b[39;00m \u001b[43mforward_call\u001b[49m\u001b[43m(\u001b[49m\u001b[38;5;241;43m*\u001b[39;49m\u001b[43margs\u001b[49m\u001b[43m,\u001b[49m\u001b[43m \u001b[49m\u001b[38;5;241;43m*\u001b[39;49m\u001b[38;5;241;43m*\u001b[39;49m\u001b[43mkwargs\u001b[49m\u001b[43m)\u001b[49m\n\u001b[1;32m   1502\u001b[0m \u001b[38;5;66;03m# Do not call functions when jit is used\u001b[39;00m\n\u001b[1;32m   1503\u001b[0m full_backward_hooks, non_full_backward_hooks \u001b[38;5;241m=\u001b[39m [], []\n",
      "File \u001b[0;32m~/eki/eki-transformer-dev/qtransform/qtransform/model/modules/__init__.py:274\u001b[0m, in \u001b[0;36mTransformerBlock.forward\u001b[0;34m(self, x)\u001b[0m\n\u001b[1;32m    272\u001b[0m \u001b[38;5;28;01mif\u001b[39;00m \u001b[38;5;28mself\u001b[39m\u001b[38;5;241m.\u001b[39mnorm_size:\n\u001b[1;32m    273\u001b[0m     x \u001b[38;5;241m=\u001b[39m \u001b[38;5;28mself\u001b[39m\u001b[38;5;241m.\u001b[39mln_1(x)\n\u001b[0;32m--> 274\u001b[0m     x \u001b[38;5;241m=\u001b[39m \u001b[38;5;28mself\u001b[39m\u001b[38;5;241m.\u001b[39mresidual1(x, \u001b[38;5;28;43mself\u001b[39;49m\u001b[38;5;241;43m.\u001b[39;49m\u001b[43mattn\u001b[49m\u001b[43m(\u001b[49m\u001b[43mx\u001b[49m\u001b[43m)\u001b[49m)\n\u001b[1;32m    275\u001b[0m     x \u001b[38;5;241m=\u001b[39m \u001b[38;5;28mself\u001b[39m\u001b[38;5;241m.\u001b[39mln_2(x)\n\u001b[1;32m    276\u001b[0m     x \u001b[38;5;241m=\u001b[39m \u001b[38;5;28mself\u001b[39m\u001b[38;5;241m.\u001b[39mresidual2(x, \u001b[38;5;28mself\u001b[39m\u001b[38;5;241m.\u001b[39mmlp(x))\n",
      "File \u001b[0;32m/opt/conda/lib/python3.10/site-packages/torch/nn/modules/module.py:1501\u001b[0m, in \u001b[0;36mModule._call_impl\u001b[0;34m(self, *args, **kwargs)\u001b[0m\n\u001b[1;32m   1496\u001b[0m \u001b[38;5;66;03m# If we don't have any hooks, we want to skip the rest of the logic in\u001b[39;00m\n\u001b[1;32m   1497\u001b[0m \u001b[38;5;66;03m# this function, and just call forward.\u001b[39;00m\n\u001b[1;32m   1498\u001b[0m \u001b[38;5;28;01mif\u001b[39;00m \u001b[38;5;129;01mnot\u001b[39;00m (\u001b[38;5;28mself\u001b[39m\u001b[38;5;241m.\u001b[39m_backward_hooks \u001b[38;5;129;01mor\u001b[39;00m \u001b[38;5;28mself\u001b[39m\u001b[38;5;241m.\u001b[39m_backward_pre_hooks \u001b[38;5;129;01mor\u001b[39;00m \u001b[38;5;28mself\u001b[39m\u001b[38;5;241m.\u001b[39m_forward_hooks \u001b[38;5;129;01mor\u001b[39;00m \u001b[38;5;28mself\u001b[39m\u001b[38;5;241m.\u001b[39m_forward_pre_hooks\n\u001b[1;32m   1499\u001b[0m         \u001b[38;5;129;01mor\u001b[39;00m _global_backward_pre_hooks \u001b[38;5;129;01mor\u001b[39;00m _global_backward_hooks\n\u001b[1;32m   1500\u001b[0m         \u001b[38;5;129;01mor\u001b[39;00m _global_forward_hooks \u001b[38;5;129;01mor\u001b[39;00m _global_forward_pre_hooks):\n\u001b[0;32m-> 1501\u001b[0m     \u001b[38;5;28;01mreturn\u001b[39;00m \u001b[43mforward_call\u001b[49m\u001b[43m(\u001b[49m\u001b[38;5;241;43m*\u001b[39;49m\u001b[43margs\u001b[49m\u001b[43m,\u001b[49m\u001b[43m \u001b[49m\u001b[38;5;241;43m*\u001b[39;49m\u001b[38;5;241;43m*\u001b[39;49m\u001b[43mkwargs\u001b[49m\u001b[43m)\u001b[49m\n\u001b[1;32m   1502\u001b[0m \u001b[38;5;66;03m# Do not call functions when jit is used\u001b[39;00m\n\u001b[1;32m   1503\u001b[0m full_backward_hooks, non_full_backward_hooks \u001b[38;5;241m=\u001b[39m [], []\n",
      "File \u001b[0;32m~/eki/eki-transformer-dev/qtransform/qtransform/model/modules/__init__.py:197\u001b[0m, in \u001b[0;36mCausalSelfAttention.forward\u001b[0;34m(self, x)\u001b[0m\n\u001b[1;32m    193\u001b[0m     N, C, L \u001b[38;5;241m=\u001b[39m x\u001b[38;5;241m.\u001b[39msize()\n\u001b[1;32m    194\u001b[0m     \u001b[38;5;66;03m#TODO: with torch version 2.0, output becomes nan when model is in eval mode. outside of CausalSelfAttention, mha does not return nan\u001b[39;00m\n\u001b[1;32m    195\u001b[0m     \u001b[38;5;66;03m#      tensors during eval mode\u001b[39;00m\n\u001b[1;32m    196\u001b[0m     \u001b[38;5;66;03m#due to inference, input features can be lower than specified max context length which causes problem during attention calculation\u001b[39;00m\n\u001b[0;32m--> 197\u001b[0m     y, weights \u001b[38;5;241m=\u001b[39m \u001b[38;5;28;43mself\u001b[39;49m\u001b[38;5;241;43m.\u001b[39;49m\u001b[43mmha\u001b[49m\u001b[43m(\u001b[49m\u001b[43mx\u001b[49m\u001b[43m,\u001b[49m\u001b[43m \u001b[49m\u001b[43mx\u001b[49m\u001b[43m,\u001b[49m\u001b[43m \u001b[49m\u001b[43mx\u001b[49m\u001b[43m,\u001b[49m\u001b[43m \u001b[49m\u001b[43mattn_mask\u001b[49m\u001b[38;5;241;43m=\u001b[39;49m\u001b[38;5;28;43mself\u001b[39;49m\u001b[38;5;241;43m.\u001b[39;49m\u001b[43mbias\u001b[49m\u001b[43m[\u001b[49m\u001b[43m:\u001b[49m\u001b[43mC\u001b[49m\u001b[43m,\u001b[49m\u001b[43m:\u001b[49m\u001b[43mC\u001b[49m\u001b[43m]\u001b[49m\u001b[43m,\u001b[49m\u001b[43m \u001b[49m\u001b[43mneed_weights\u001b[49m\u001b[38;5;241;43m=\u001b[39;49m\u001b[38;5;28;43;01mFalse\u001b[39;49;00m\u001b[43m)\u001b[49m \u001b[38;5;66;03m# Q, K, V, attn_mask y\u001b[39;00m\n\u001b[1;32m    198\u001b[0m y \u001b[38;5;241m=\u001b[39m \u001b[38;5;28mself\u001b[39m\u001b[38;5;241m.\u001b[39mresid_dropout(\u001b[38;5;28mself\u001b[39m\u001b[38;5;241m.\u001b[39mc_proj(y))\n\u001b[1;32m    199\u001b[0m     \u001b[38;5;66;03m#y, weights = self.mha(x, x, x, is_causal=True) # Q, K, V, attn_mask y\u001b[39;00m\n",
      "File \u001b[0;32m/opt/conda/lib/python3.10/site-packages/torch/nn/modules/module.py:1501\u001b[0m, in \u001b[0;36mModule._call_impl\u001b[0;34m(self, *args, **kwargs)\u001b[0m\n\u001b[1;32m   1496\u001b[0m \u001b[38;5;66;03m# If we don't have any hooks, we want to skip the rest of the logic in\u001b[39;00m\n\u001b[1;32m   1497\u001b[0m \u001b[38;5;66;03m# this function, and just call forward.\u001b[39;00m\n\u001b[1;32m   1498\u001b[0m \u001b[38;5;28;01mif\u001b[39;00m \u001b[38;5;129;01mnot\u001b[39;00m (\u001b[38;5;28mself\u001b[39m\u001b[38;5;241m.\u001b[39m_backward_hooks \u001b[38;5;129;01mor\u001b[39;00m \u001b[38;5;28mself\u001b[39m\u001b[38;5;241m.\u001b[39m_backward_pre_hooks \u001b[38;5;129;01mor\u001b[39;00m \u001b[38;5;28mself\u001b[39m\u001b[38;5;241m.\u001b[39m_forward_hooks \u001b[38;5;129;01mor\u001b[39;00m \u001b[38;5;28mself\u001b[39m\u001b[38;5;241m.\u001b[39m_forward_pre_hooks\n\u001b[1;32m   1499\u001b[0m         \u001b[38;5;129;01mor\u001b[39;00m _global_backward_pre_hooks \u001b[38;5;129;01mor\u001b[39;00m _global_backward_hooks\n\u001b[1;32m   1500\u001b[0m         \u001b[38;5;129;01mor\u001b[39;00m _global_forward_hooks \u001b[38;5;129;01mor\u001b[39;00m _global_forward_pre_hooks):\n\u001b[0;32m-> 1501\u001b[0m     \u001b[38;5;28;01mreturn\u001b[39;00m \u001b[43mforward_call\u001b[49m\u001b[43m(\u001b[49m\u001b[38;5;241;43m*\u001b[39;49m\u001b[43margs\u001b[49m\u001b[43m,\u001b[49m\u001b[43m \u001b[49m\u001b[38;5;241;43m*\u001b[39;49m\u001b[38;5;241;43m*\u001b[39;49m\u001b[43mkwargs\u001b[49m\u001b[43m)\u001b[49m\n\u001b[1;32m   1502\u001b[0m \u001b[38;5;66;03m# Do not call functions when jit is used\u001b[39;00m\n\u001b[1;32m   1503\u001b[0m full_backward_hooks, non_full_backward_hooks \u001b[38;5;241m=\u001b[39m [], []\n",
      "File \u001b[0;32m/opt/conda/lib/python3.10/site-packages/torch/nn/modules/activation.py:1167\u001b[0m, in \u001b[0;36mMultiheadAttention.forward\u001b[0;34m(self, query, key, value, key_padding_mask, need_weights, attn_mask, average_attn_weights, is_causal)\u001b[0m\n\u001b[1;32m   1165\u001b[0m \u001b[38;5;28;01mif\u001b[39;00m key \u001b[38;5;129;01mis\u001b[39;00m value:\n\u001b[1;32m   1166\u001b[0m     \u001b[38;5;28;01mif\u001b[39;00m query \u001b[38;5;129;01mis\u001b[39;00m key:\n\u001b[0;32m-> 1167\u001b[0m         query \u001b[38;5;241m=\u001b[39m key \u001b[38;5;241m=\u001b[39m value \u001b[38;5;241m=\u001b[39m \u001b[43mquery\u001b[49m\u001b[38;5;241;43m.\u001b[39;49m\u001b[43mtranspose\u001b[49m\u001b[43m(\u001b[49m\u001b[38;5;241;43m1\u001b[39;49m\u001b[43m,\u001b[49m\u001b[43m \u001b[49m\u001b[38;5;241;43m0\u001b[39;49m\u001b[43m)\u001b[49m\n\u001b[1;32m   1168\u001b[0m     \u001b[38;5;28;01melse\u001b[39;00m:\n\u001b[1;32m   1169\u001b[0m         query, key \u001b[38;5;241m=\u001b[39m [x\u001b[38;5;241m.\u001b[39mtranspose(\u001b[38;5;241m1\u001b[39m, \u001b[38;5;241m0\u001b[39m) \u001b[38;5;28;01mfor\u001b[39;00m x \u001b[38;5;129;01min\u001b[39;00m (query, key)]\n",
      "File \u001b[0;32m/opt/conda/lib/python3.10/site-packages/torch/fx/traceback.py:41\u001b[0m, in \u001b[0;36mformat_stack\u001b[0;34m()\u001b[0m\n\u001b[1;32m     38\u001b[0m     \u001b[38;5;28;01mreturn\u001b[39;00m [current_meta\u001b[38;5;241m.\u001b[39mget(\u001b[38;5;124m\"\u001b[39m\u001b[38;5;124mstack_trace\u001b[39m\u001b[38;5;124m\"\u001b[39m, \u001b[38;5;124m\"\u001b[39m\u001b[38;5;124m\"\u001b[39m)]\n\u001b[1;32m     39\u001b[0m \u001b[38;5;28;01melse\u001b[39;00m:\n\u001b[1;32m     40\u001b[0m     \u001b[38;5;66;03m# fallback to traceback.format_stack()\u001b[39;00m\n\u001b[0;32m---> 41\u001b[0m     \u001b[38;5;28;01mreturn\u001b[39;00m \u001b[43mtraceback\u001b[49m\u001b[38;5;241;43m.\u001b[39;49m\u001b[43mformat_list\u001b[49m\u001b[43m(\u001b[49m\u001b[43mtraceback\u001b[49m\u001b[38;5;241;43m.\u001b[39;49m\u001b[43mextract_stack\u001b[49m\u001b[43m(\u001b[49m\u001b[43m)\u001b[49m\u001b[43m[\u001b[49m\u001b[43m:\u001b[49m\u001b[38;5;241;43m-\u001b[39;49m\u001b[38;5;241;43m1\u001b[39;49m\u001b[43m]\u001b[49m\u001b[43m)\u001b[49m\n",
      "File \u001b[0;32m/opt/conda/lib/python3.10/traceback.py:39\u001b[0m, in \u001b[0;36mformat_list\u001b[0;34m(extracted_list)\u001b[0m\n\u001b[1;32m     27\u001b[0m \u001b[38;5;28;01mdef\u001b[39;00m \u001b[38;5;21mformat_list\u001b[39m(extracted_list):\n\u001b[1;32m     28\u001b[0m \u001b[38;5;250m    \u001b[39m\u001b[38;5;124;03m\"\"\"Format a list of tuples or FrameSummary objects for printing.\u001b[39;00m\n\u001b[1;32m     29\u001b[0m \n\u001b[1;32m     30\u001b[0m \u001b[38;5;124;03m    Given a list of tuples or FrameSummary objects as returned by\u001b[39;00m\n\u001b[0;32m   (...)\u001b[0m\n\u001b[1;32m     37\u001b[0m \u001b[38;5;124;03m    whose source text line is not None.\u001b[39;00m\n\u001b[1;32m     38\u001b[0m \u001b[38;5;124;03m    \"\"\"\u001b[39;00m\n\u001b[0;32m---> 39\u001b[0m     \u001b[38;5;28;01mreturn\u001b[39;00m \u001b[43mStackSummary\u001b[49m\u001b[38;5;241;43m.\u001b[39;49m\u001b[43mfrom_list\u001b[49m\u001b[43m(\u001b[49m\u001b[43mextracted_list\u001b[49m\u001b[43m)\u001b[49m\u001b[38;5;241;43m.\u001b[39;49m\u001b[43mformat\u001b[49m\u001b[43m(\u001b[49m\u001b[43m)\u001b[49m\n",
      "File \u001b[0;32m/opt/conda/lib/python3.10/traceback.py:447\u001b[0m, in \u001b[0;36mStackSummary.format\u001b[0;34m(self)\u001b[0m\n\u001b[1;32m    445\u001b[0m         \u001b[38;5;28;01mfor\u001b[39;00m name, value \u001b[38;5;129;01min\u001b[39;00m \u001b[38;5;28msorted\u001b[39m(frame\u001b[38;5;241m.\u001b[39mlocals\u001b[38;5;241m.\u001b[39mitems()):\n\u001b[1;32m    446\u001b[0m             row\u001b[38;5;241m.\u001b[39mappend(\u001b[38;5;124m'\u001b[39m\u001b[38;5;124m    \u001b[39m\u001b[38;5;132;01m{name}\u001b[39;00m\u001b[38;5;124m = \u001b[39m\u001b[38;5;132;01m{value}\u001b[39;00m\u001b[38;5;130;01m\\n\u001b[39;00m\u001b[38;5;124m'\u001b[39m\u001b[38;5;241m.\u001b[39mformat(name\u001b[38;5;241m=\u001b[39mname, value\u001b[38;5;241m=\u001b[39mvalue))\n\u001b[0;32m--> 447\u001b[0m     result\u001b[38;5;241m.\u001b[39mappend(\u001b[38;5;124;43m'\u001b[39;49m\u001b[38;5;124;43m'\u001b[39;49m\u001b[38;5;241;43m.\u001b[39;49m\u001b[43mjoin\u001b[49m\u001b[43m(\u001b[49m\u001b[43mrow\u001b[49m\u001b[43m)\u001b[49m)\n\u001b[1;32m    448\u001b[0m \u001b[38;5;28;01mif\u001b[39;00m count \u001b[38;5;241m>\u001b[39m _RECURSIVE_CUTOFF:\n\u001b[1;32m    449\u001b[0m     count \u001b[38;5;241m-\u001b[39m\u001b[38;5;241m=\u001b[39m _RECURSIVE_CUTOFF\n",
      "\u001b[0;31mKeyboardInterrupt\u001b[0m: "
     ]
    }
   ],
   "source": [
    "model = \"BENCH_gpt2_ReBNP_smaller\"\n",
    "args.append(\"model=\"+model)\n",
    "qtransform.notebook_run(args, logging.INFO)"
   ]
  },
  {
   "cell_type": "markdown",
   "id": "e8cc5088-1641-470d-87e6-629aedef25d6",
   "metadata": {
    "tags": []
   },
   "source": [
    "#### ReLU LayerNorm"
   ]
  },
  {
   "cell_type": "code",
   "execution_count": null,
   "id": "d5b275c7-d6d5-4765-9d2d-dc658c46b9f9",
   "metadata": {},
   "outputs": [],
   "source": [
    "model = \"gpt_2_h2l2e256b64_ReLN\"\n",
    "args.append(\"model=\"+model)\n",
    "qtransform.notebook_run(args)"
   ]
  },
  {
   "cell_type": "markdown",
   "id": "ea3d7d88-aae2-4e09-8e2c-0d303f6a829b",
   "metadata": {},
   "source": [
    "#### GELU BatchNorm"
   ]
  },
  {
   "cell_type": "code",
   "execution_count": null,
   "id": "4f68609a-e8a1-44d0-8d2f-c33af27cb3ab",
   "metadata": {},
   "outputs": [],
   "source": [
    "model = \"gpt_2_h2l2e256b64_GeBN\"\n",
    "args.append(\"model=\"+model)\n",
    "qtransform.notebook_run(args)"
   ]
  },
  {
   "cell_type": "markdown",
   "id": "ede4be2a-17a0-45c6-97bd-f65f949f83cc",
   "metadata": {},
   "source": [
    "#### GELU LayerNorm"
   ]
  },
  {
   "cell_type": "code",
   "execution_count": null,
   "id": "6a6ece23-83de-4240-a189-f06f1f53a3cb",
   "metadata": {},
   "outputs": [],
   "source": [
    "model = \"gpt_2_h2l2e256b64_GeLN\"\n",
    "args.append(\"model=\"+model)\n",
    "qtransform.notebook_run(args)"
   ]
  },
  {
   "cell_type": "markdown",
   "id": "72f99928-b1b2-4e55-adad-c32b1a36d4c7",
   "metadata": {},
   "source": [
    "### Inference"
   ]
  },
  {
   "cell_type": "code",
   "execution_count": 9,
   "id": "cdeba56e-1b91-453a-9c50-dd93b575237f",
   "metadata": {
    "tags": []
   },
   "outputs": [],
   "source": [
    "args_infer = [\n",
    "        \"run=infer\",\n",
    "        \"device=cuda\",\n",
    "        \"run.num_samples=20\", \n",
    "        \"run.max_new_tokens=100\",\n",
    "        \"run.temperature=0.8\",\n",
    "        \"run.top_k=200\",\n",
    "        \"run.start='\\n'\",\n",
    "        \"debug=True\"\n",
    "    ]"
   ]
  },
  {
   "cell_type": "markdown",
   "id": "31a4fb45-a5e2-411f-9969-b3559b7fd775",
   "metadata": {},
   "source": [
    "#### ReLU BatchNorm"
   ]
  },
  {
   "cell_type": "code",
   "execution_count": 10,
   "id": "6aa17b29-bf39-4e44-a263-635356801009",
   "metadata": {
    "tags": []
   },
   "outputs": [
    {
     "name": "stdout",
     "output_type": "stream",
     "text": [
      "{'data': {'dtype': 'float32'}, 'device': 'cuda', 'debug': True, 'dataset': {'wrapper': '???', 'module': '???', 'name': '???', 'root_path': '~/.qtransform/datasets', 'dataset_dir': ['${dataset.root_path}', '${dataset.module}', '${dataset.name}'], 'sizes': {'train': 0.0, 'eval': 0.0, 'bench': 0.0}, 'tokenizer': {'dtype': '${data.dtype}', 'meta_file': 'meta.pkl'}}, 'seed': 1234567890, 'model': {'calc_loss_in_model': False}, 'quantization': {'quantize': False}, 'pipe': '/dev/null', 'optim': {'optimizer': 'AdamW', 'args': {'learning_rate': 0.00015, 'weight_decay': 0.1, 'betas': [0.9, 0.95]}, 'scheduler': {'decay_lr': True, 'schedulers': {'1': {'name': 'StepLR', 'args': {'step_size': 1, 'gamma': 0.1}}}, 'milestones': None, 'warmup_epochs': 2}}, 'run': {'command': 'infer', 'checkpoint_dir': 'models', 'num_samples': 20, 'max_new_tokens': 100, 'temperature': 0.8, 'top_k': 200, 'start': '\\n', 'compile': False, 'out_dir': None, 'onnx_model': {'path': None, 'tokenizer': {'name': 'tiktoken', 'encoding': 'gpt2', 'meta_path': None}}, 'from_checkpoint': '/home/mabot004/eki-transformer-dev/shakespeare_owt_benchmarking/wikitext/GPT_wikitext_2024-03-06_09:55:12__epoch:5', 'debug': False}}\n",
      "[ \u001b[36m2024-03-06 11:48:20,787 \u001b[0m][\u001b[2;37mqtransform.qtransform.__main__\u001b[0m][\u001b[34mDEBUG\u001b[0m] - \u001b[34mDEBUG ENABLED\u001b[0m\n",
      "[ \u001b[36m2024-03-06 11:48:20,790 \u001b[0m][\u001b[2;37mqtransform.run.infer\u001b[0m][\u001b[32mINFO\u001b[0m] - \u001b[32m=================\u001b[0m\n",
      "[ \u001b[36m2024-03-06 11:48:20,791 \u001b[0m][\u001b[2;37mqtransform.run.infer\u001b[0m][\u001b[32mINFO\u001b[0m] - \u001b[32mRunning Inference\u001b[0m\n",
      "[ \u001b[36m2024-03-06 11:48:20,792 \u001b[0m][\u001b[2;37mqtransform.run.infer\u001b[0m][\u001b[32mINFO\u001b[0m] - \u001b[32m=================\u001b[0m\n",
      "[ \u001b[36m2024-03-06 11:48:20,794 \u001b[0m][\u001b[2;37mqtransform\u001b[0m][\u001b[32mINFO\u001b[0m] - \u001b[32mDevice specified: cuda. Using device: cuda\u001b[0m\n",
      "[ \u001b[36m2024-03-06 11:48:20,795 \u001b[0m][\u001b[2;37mqtransform.run.infer\u001b[0m][\u001b[32mINFO\u001b[0m] - \u001b[32musing device: cuda\u001b[0m\n",
      "[ \u001b[36m2024-03-06 11:48:20,797 \u001b[0m][\u001b[2;37mqtransform.utils.helper\u001b[0m][\u001b[32mINFO\u001b[0m] - \u001b[32mLoading checkpoint from /home/mabot004/eki-transformer-dev/shakespeare_owt_benchmarking/wikitext/GPT_wikitext_2024-03-06_09:55:12__epoch:5\u001b[0m\n",
      "[ \u001b[36m2024-03-06 11:48:21,388 \u001b[0m][\u001b[2;37mqtransform.model\u001b[0m][\u001b[34mDEBUG\u001b[0m] - \u001b[34mget_model config: {'calc_loss_in_model': True, 'cls': 'GPT', 'args': {'n_layer': 6, 'n_head': 6, 'n_embd': 384, 'dropout': 0.2, 'bias': True, 'block_size': 384, 'vocab_size': 50256, 'transformer_active_func': 'ReLU', 'norm_layer': 'BatchNorm', 'flash': False, 'single_output': False, 'use_weight_tying': True}}\u001b[0m\n",
      "[ \u001b[36m2024-03-06 11:48:21,390 \u001b[0m][\u001b[2;37mqtransform.model\u001b[0m][\u001b[34mDEBUG\u001b[0m] - \u001b[34mLoading class qtransform.model.GPT(parent: <class 'torch.nn.modules.module.Module'>)\u001b[0m\n",
      "[ \u001b[36m2024-03-06 11:48:21,395 \u001b[0m][\u001b[2;37mqtransform.model.gpt\u001b[0m][\u001b[34mDEBUG\u001b[0m] - \u001b[34mApplied config: \n",
      "GPTConfig(block_size=384, vocab_size=50256, n_layer=6, n_head=6, n_embd=384, dropout=0.2, bias=True, flash=False, transformer_active_func='ReLU', norm_layer='BatchNorm', single_output=False, use_weight_tying=True, custom_ln=False)\u001b[0m\n",
      "[ \u001b[36m2024-03-06 11:48:21,397 \u001b[0m][\u001b[2;37mqtransform.model.gpt\u001b[0m][\u001b[32mINFO\u001b[0m] - \u001b[32mModel config: GPTConfig(block_size=384, vocab_size=50256, n_layer=6, n_head=6, n_embd=384, dropout=0.2, bias=True, flash=False, transformer_active_func='ReLU', norm_layer='BatchNorm', single_output=False, use_weight_tying=True, custom_ln=False)\u001b[0m\n",
      "50256 384\n",
      "[ \u001b[36m2024-03-06 11:48:21,532 \u001b[0m][\u001b[2;37mqtransform.model.modules\u001b[0m][\u001b[33mWARNING\u001b[0m] - \u001b[33mWARNING: using slow attention. Flash Attention requires PyTorch >= 2.2\u001b[0m\n",
      "[ \u001b[36m2024-03-06 11:48:21,545 \u001b[0m][\u001b[2;37mqtransform.model.modules\u001b[0m][\u001b[33mWARNING\u001b[0m] - \u001b[33mWARNING: using slow attention. Flash Attention requires PyTorch >= 2.2\u001b[0m\n",
      "[ \u001b[36m2024-03-06 11:48:21,563 \u001b[0m][\u001b[2;37mqtransform.model.modules\u001b[0m][\u001b[33mWARNING\u001b[0m] - \u001b[33mWARNING: using slow attention. Flash Attention requires PyTorch >= 2.2\u001b[0m\n",
      "[ \u001b[36m2024-03-06 11:48:21,584 \u001b[0m][\u001b[2;37mqtransform.model.modules\u001b[0m][\u001b[33mWARNING\u001b[0m] - \u001b[33mWARNING: using slow attention. Flash Attention requires PyTorch >= 2.2\u001b[0m\n",
      "[ \u001b[36m2024-03-06 11:48:21,604 \u001b[0m][\u001b[2;37mqtransform.model.modules\u001b[0m][\u001b[33mWARNING\u001b[0m] - \u001b[33mWARNING: using slow attention. Flash Attention requires PyTorch >= 2.2\u001b[0m\n",
      "[ \u001b[36m2024-03-06 11:48:21,685 \u001b[0m][\u001b[2;37mqtransform.model.modules\u001b[0m][\u001b[33mWARNING\u001b[0m] - \u001b[33mWARNING: using slow attention. Flash Attention requires PyTorch >= 2.2\u001b[0m\n",
      "[ \u001b[36m2024-03-06 11:48:21,702 \u001b[0m][\u001b[2;37mqtransform.model.modules\u001b[0m][\u001b[33mWARNING\u001b[0m] - \u001b[33mWARNING: using slow attention. Flash Attention requires PyTorch >= 2.2\u001b[0m\n",
      "[ \u001b[36m2024-03-06 11:48:21,788 \u001b[0m][\u001b[2;37mqtransform.model.modules\u001b[0m][\u001b[33mWARNING\u001b[0m] - \u001b[33mWARNING: using slow attention. Flash Attention requires PyTorch >= 2.2\u001b[0m\n",
      "[ \u001b[36m2024-03-06 11:48:21,876 \u001b[0m][\u001b[2;37mqtransform.model.modules\u001b[0m][\u001b[33mWARNING\u001b[0m] - \u001b[33mWARNING: using slow attention. Flash Attention requires PyTorch >= 2.2\u001b[0m\n",
      "[ \u001b[36m2024-03-06 11:48:21,886 \u001b[0m][\u001b[2;37mqtransform.model.modules\u001b[0m][\u001b[33mWARNING\u001b[0m] - \u001b[33mWARNING: using slow attention. Flash Attention requires PyTorch >= 2.2\u001b[0m\n",
      "[ \u001b[36m2024-03-06 11:48:21,902 \u001b[0m][\u001b[2;37mqtransform.model.modules\u001b[0m][\u001b[33mWARNING\u001b[0m] - \u001b[33mWARNING: using slow attention. Flash Attention requires PyTorch >= 2.2\u001b[0m\n",
      "[ \u001b[36m2024-03-06 11:48:21,983 \u001b[0m][\u001b[2;37mqtransform.model.modules\u001b[0m][\u001b[33mWARNING\u001b[0m] - \u001b[33mWARNING: using slow attention. Flash Attention requires PyTorch >= 2.2\u001b[0m\n",
      "[ \u001b[36m2024-03-06 11:48:22,407 \u001b[0m][\u001b[2;37mqtransform.model.gpt\u001b[0m][\u001b[32mINFO\u001b[0m] - \u001b[32mnumber of parameters: 52.79M\u001b[0m\n",
      "[ \u001b[36m2024-03-06 11:48:22,467 \u001b[0m][\u001b[2;37mqtransform.dataset.tokenizer\u001b[0m][\u001b[34mDEBUG\u001b[0m] - \u001b[34mAttempting to retrieve tokenizer with cfg: {'dtype': '${data.dtype}', 'meta_file': 'meta.pkl', 'wrapper': 'TikTokenizer', 'encoding': 'gpt2', 'module': 'tiktoken', 'meta': {'max_token_value': 50256, 'encoding': 'gpt2', 'dtype': 'float32', 'num_tokens': 123923549, 'module': 'tiktoken'}}\u001b[0m\n",
      "[ \u001b[36m2024-03-06 11:48:22,469 \u001b[0m][\u001b[2;37mqtransform.dataset.tokenizer\u001b[0m][\u001b[34mDEBUG\u001b[0m] - \u001b[34mLoading class qtransform.dataset.tokenizer.TikTokenizer(parent: <class 'qtransform.dataset.tokenizer.tokenizer.Tokenizer'>)\u001b[0m\n",
      "[ \u001b[36m2024-03-06 11:48:22,473 \u001b[0m][\u001b[2;37mqtransform.dataset.tokenizer\u001b[0m][\u001b[34mDEBUG\u001b[0m] - \u001b[34mPassing arguments {'tokenizer_cfg': {'dtype': '${data.dtype}', 'meta_file': 'meta.pkl', 'wrapper': 'TikTokenizer', 'encoding': 'gpt2', 'module': 'tiktoken', 'meta': {'max_token_value': 50256, 'encoding': 'gpt2', 'dtype': 'float32', 'num_tokens': 123923549, 'module': 'tiktoken'}}, 'memmap': None} to class: <class 'qtransform.dataset.tokenizer.tiktoken.TikTokenizer'>\u001b[0m\n",
      "[ \u001b[36m2024-03-06 11:48:22,475 \u001b[0m][\u001b[2;37mqtransform.dataset.tokenizer.tokenizer\u001b[0m][\u001b[34mDEBUG\u001b[0m] - \u001b[34mCreating Tokenizer with parameters: {'dtype': '${data.dtype}', 'meta_file': 'meta.pkl', 'wrapper': 'TikTokenizer', 'encoding': 'gpt2', 'module': 'tiktoken', 'meta': {'max_token_value': 50256, 'encoding': 'gpt2', 'dtype': 'float32', 'num_tokens': 123923549, 'module': 'tiktoken'}}\u001b[0m\n",
      "[ \u001b[36m2024-03-06 11:48:22,479 \u001b[0m][\u001b[2;37mqtransform.run\u001b[0m][\u001b[34mDEBUG\u001b[0m] - \u001b[34m{'max_token_value': 50256, 'encoding': 'gpt2', 'dtype': 'float32', 'num_tokens': 123923549, 'module': 'tiktoken'}\u001b[0m\n",
      "[ \u001b[36m2024-03-06 11:48:22,485 \u001b[0m][\u001b[2;37mqtransform.run.infer\u001b[0m][\u001b[32mINFO\u001b[0m] - \u001b[32mRunning inference from CHECKPOINT.\u001b[0m\n",
      "[ \u001b[36m2024-03-06 11:48:27,087 \u001b[0m][\u001b[2;37mqtransform.run.infer\u001b[0m][\u001b[34mDEBUG\u001b[0m] - \u001b[34mHighest predicted token: 43336\u001b[0m\n",
      "[ \u001b[36m2024-03-06 11:48:27,092 \u001b[0m][\u001b[2;37mqtransform.run.infer\u001b[0m][\u001b[32mINFO\u001b[0m] - \u001b[32mGenerating sample: 1/20\u001b[0m\n",
      "\n",
      " as the film in the sanctuary and settings as Reagan 's nightmare Kevin 's will acknowledge ) . \n",
      " gdr / lʾrg / wllmq \n",
      "ʾrg / wllmq \n",
      " gdr / tbʾrg / wllmq \n",
      " gdr / tbʾrg / lʾrg / wllmq \n",
      "continued at the city in oldest professional football team in noted for Native Government Employees ( Route 291\n",
      "---------------\n",
      "\n",
      "[ \u001b[36m2024-03-06 11:48:31,584 \u001b[0m][\u001b[2;37mqtransform.run.infer\u001b[0m][\u001b[34mDEBUG\u001b[0m] - \u001b[34mHighest predicted token: 41345\u001b[0m\n",
      "[ \u001b[36m2024-03-06 11:48:31,588 \u001b[0m][\u001b[2;37mqtransform.run.infer\u001b[0m][\u001b[32mINFO\u001b[0m] - \u001b[32mGenerating sample: 2/20\u001b[0m\n",
      "\n",
      " a the Sundays . \n",
      "e season in the filmʾrg / wllm Original Moved to look towards Independence . noted for attacks him . It is a heavy dialogue ; Joan Armatrsuit of the sanctuary andak . It isnot recognize . Onl / tbʾksmq \n",
      "continued at the Night \" , tbʾrg / ngśy Channel queen \" Hagen believes thatʿl / tbʾrg / t\n",
      "---------------\n",
      "\n",
      "[ \u001b[36m2024-03-06 11:48:35,895 \u001b[0m][\u001b[2;37mqtransform.run.infer\u001b[0m][\u001b[34mDEBUG\u001b[0m] - \u001b[34mHighest predicted token: 48980\u001b[0m\n",
      "[ \u001b[36m2024-03-06 11:48:35,903 \u001b[0m][\u001b[2;37mqtransform.run.infer\u001b[0m][\u001b[32mINFO\u001b[0m] - \u001b[32mGenerating sample: 3/20\u001b[0m\n",
      "\n",
      " of similar choreography at the thirty @-@ Ring closed on the extends west past on Sundays . Second edition : \" . It is known only musical influence she will acknowledge ) . \n",
      "continued at the film in order to attend the sanctuary and phosphorus @-@ heavy dialogue ; Joan Armatrsuit ofnot recognize . The status of NBC 'snot Tucker \" , \" \n",
      " gdr / wllmq \n",
      " gdr / wllm / wllmq \n",
      "---------------\n",
      "\n",
      "[ \u001b[36m2024-03-06 11:48:40,386 \u001b[0m][\u001b[2;37mqtransform.run.infer\u001b[0m][\u001b[34mDEBUG\u001b[0m] - \u001b[34mHighest predicted token: 43336\u001b[0m\n",
      "[ \u001b[36m2024-03-06 11:48:40,392 \u001b[0m][\u001b[2;37mqtransform.run.infer\u001b[0m][\u001b[32mINFO\u001b[0m] - \u001b[32mGenerating sample: 4/20\u001b[0m\n",
      "\n",
      " , the known as \" . \n",
      " gdr / lijesak . \n",
      " In 2015 , the signifying that Route 291 ( sanctuary and opportunity to pick a pick a Supreme Court justice , but the ngśy Channel nutrient uptake in the promot \" Ring Shot \" . It was noted forq \n",
      " gdr / lʾksmq \n",
      " gdr / wllmq \n",
      " noted for attacks him . It is known of biologiac and Reagan '\n",
      "---------------\n",
      "\n",
      "[ \u001b[36m2024-03-06 11:48:45,079 \u001b[0m][\u001b[2;37mqtransform.run.infer\u001b[0m][\u001b[34mDEBUG\u001b[0m] - \u001b[34mHighest predicted token: 41345\u001b[0m\n",
      "[ \u001b[36m2024-03-06 11:48:45,083 \u001b[0m][\u001b[2;37mqtransform.run.infer\u001b[0m][\u001b[32mINFO\u001b[0m] - \u001b[32mGenerating sample: 5/20\u001b[0m\n",
      "\n",
      " thelrading ( the will acknowledge ) . \n",
      " gdr / wllmq \n",
      "q \n",
      "continued at the highway travels north towards Independence . \n",
      " gdr / tbʾrg / wllmq \n",
      "continued at the highway travels north towards Independence . \n",
      "continued at the On the highway travels north towards Independence . \n",
      " biologial extravagance . It is known only musical influence she will acknowledge ) , the Onlteij\n",
      "---------------\n",
      "\n",
      "[ \u001b[36m2024-03-06 11:48:49,481 \u001b[0m][\u001b[2;37mqtransform.run.infer\u001b[0m][\u001b[34mDEBUG\u001b[0m] - \u001b[34mHighest predicted token: 44923\u001b[0m\n",
      "[ \u001b[36m2024-03-06 11:48:49,484 \u001b[0m][\u001b[2;37mqtransform.run.infer\u001b[0m][\u001b[32mINFO\u001b[0m] - \u001b[32mGenerating sample: 6/20\u001b[0m\n",
      "\n",
      " to promot \" , to Native Government Employees ( Co . \n",
      " his own Old Dan Tucker \" Hagen believes that the sanctuary andʿl travels north towards Independence . This range in the oldest professional football team match with King 's lʾrg / wllmq \n",
      "oo Bristol Rovers , known only musical influence she approached the Triple Hagen believes that the Old Dan Tucker \" , the film in thepleidings Reasons Kim Employees ( theoved to pick a Supreme Court justice\n",
      "---------------\n",
      "\n",
      "[ \u001b[36m2024-03-06 11:48:53,397 \u001b[0m][\u001b[2;37mqtransform.run.infer\u001b[0m][\u001b[34mDEBUG\u001b[0m] - \u001b[34mHighest predicted token: 48980\u001b[0m\n",
      "[ \u001b[36m2024-03-06 11:48:53,478 \u001b[0m][\u001b[2;37mqtransform.run.infer\u001b[0m][\u001b[32mINFO\u001b[0m] - \u001b[32mGenerating sample: 7/20\u001b[0m\n",
      "\n",
      " the Route 291 the President and only musical influence she will acknowledge ) . \n",
      " gdr / wllm support the coronation feast after the Jim poems , shiftinddition runs along the film in late 1989 , it as the President and King 's variants , UHF – unknown because it as well as well as the highway travels north towards sees \" \n",
      "continued at the film in entitled UHF – Original M phosphorus @-@ 1908 to shiftinddition runs along the first\n",
      "---------------\n",
      "\n",
      "[ \u001b[36m2024-03-06 11:48:57,587 \u001b[0m][\u001b[2;37mqtransform.run.infer\u001b[0m][\u001b[34mDEBUG\u001b[0m] - \u001b[34mHighest predicted token: 43336\u001b[0m\n",
      "[ \u001b[36m2024-03-06 11:48:57,589 \u001b[0m][\u001b[2;37mqtransform.run.infer\u001b[0m][\u001b[32mINFO\u001b[0m] - \u001b[32mGenerating sample: 8/20\u001b[0m\n",
      "\n",
      " aq utler won the / tbʾrg / wllmq \n",
      "contin Magel on hold until the President and settings as the King largely ignored hared on Han Pijesak . The Ole Dan Tucker \"q \n",
      " gdr / tbʾksmq \n",
      "ʾrg / wllmq \n",
      "continued at the new law ,Mifflin Co . approached theifflin Co . The 291 ( 1974 \n",
      " well \n",
      "---------------\n",
      "\n",
      "[ \u001b[36m2024-03-06 11:49:02,089 \u001b[0m][\u001b[2;37mqtransform.run.infer\u001b[0m][\u001b[34mDEBUG\u001b[0m] - \u001b[34mHighest predicted token: 41345\u001b[0m\n",
      "[ \u001b[36m2024-03-06 11:49:02,094 \u001b[0m][\u001b[2;37mqtransform.run.infer\u001b[0m][\u001b[32mINFO\u001b[0m] - \u001b[32mGenerating sample: 9/20\u001b[0m\n",
      "\n",
      " t will70 yd ) was noted for MSN Music , he was noted for the sanctuary and defic haveʿl / tbʾrg / tbʾrg / wllmq \n",
      " dialect @-@ soundtrack for attacks him from the years immediately preceding World War I ever largely ignored hared on Han Pijesak . It is known only from the sanctuary and settings as low @-@ heavy dialogue is known only musical influence she will acknowledge ) . Second edition\n",
      "---------------\n",
      "\n",
      "[ \u001b[36m2024-03-06 11:49:06,686 \u001b[0m][\u001b[2;37mqtransform.run.infer\u001b[0m][\u001b[34mDEBUG\u001b[0m] - \u001b[34mHighest predicted token: 41345\u001b[0m\n",
      "[ \u001b[36m2024-03-06 11:49:06,700 \u001b[0m][\u001b[2;37mqtransform.run.infer\u001b[0m][\u001b[32mINFO\u001b[0m] - \u001b[32mGenerating sample: 10/20\u001b[0m\n",
      "\n",
      " , Ring Shot \" . The status of the King largely ignored hared on sanctuary andeme in the film in the Night \" .dr / lʾrg / lʾksmq \n",
      "bʾksmq \n",
      "continued at the dinosaur fossils and attacking him because they are known for MSN Music , shiftinddition runs along the obscure . Their uptake in the first quasi @-@ noted for Native Government Employees ( oldest professional football team in the insurgen heavy\n",
      "---------------\n",
      "\n",
      "[ \u001b[36m2024-03-06 11:49:11,081 \u001b[0m][\u001b[2;37mqtransform.run.infer\u001b[0m][\u001b[34mDEBUG\u001b[0m] - \u001b[34mHighest predicted token: 41345\u001b[0m\n",
      "[ \u001b[36m2024-03-06 11:49:11,085 \u001b[0m][\u001b[2;37mqtransform.run.infer\u001b[0m][\u001b[32mINFO\u001b[0m] - \u001b[32mGenerating sample: 11/20\u001b[0m\n",
      "\n",
      " was noted for attacks him as the coronation feast after the city an article entitled UHF – status of NBC 's Angelou King 's lʾrg / wllmq \n",
      "continued at the entire south side of the Singsschool Vnation as \" \n",
      " gdr / wllmq \n",
      "continued at the Ole Dan Tucker \" Ring Shot \" all during the film to pick a Supreme Court justice ,Mifflin Co . Onlrsuit of NBC\n",
      "---------------\n",
      "\n",
      "[ \u001b[36m2024-03-06 11:49:15,984 \u001b[0m][\u001b[2;37mqtransform.run.infer\u001b[0m][\u001b[34mDEBUG\u001b[0m] - \u001b[34mHighest predicted token: 41345\u001b[0m\n",
      "[ \u001b[36m2024-03-06 11:49:15,988 \u001b[0m][\u001b[2;37mqtransform.run.infer\u001b[0m][\u001b[32mINFO\u001b[0m] - \u001b[32mGenerating sample: 12/20\u001b[0m\n",
      "\n",
      "  , the film in a Jim Morrison ; Joan Armatrading ( the Independence . It isnot recognize . rading ( Opleidings arms and noted for Native Government Employees ( 1974 \n",
      "l History Museum , Supreme Court justice , is alternative game 's arms andʾrg / lʿl performed by Ray Wers pick a quasi @-@ nutrient soils such as a quasi @-@ heavy dialogue ; Neme in late 1989 , tbʾrg /\n",
      "---------------\n",
      "\n",
      "[ \u001b[36m2024-03-06 11:49:20,681 \u001b[0m][\u001b[2;37mqtransform.run.infer\u001b[0m][\u001b[34mDEBUG\u001b[0m] - \u001b[34mHighest predicted token: 44923\u001b[0m\n",
      "[ \u001b[36m2024-03-06 11:49:20,686 \u001b[0m][\u001b[2;37mqtransform.run.infer\u001b[0m][\u001b[32mINFO\u001b[0m] - \u001b[32mGenerating sample: 13/20\u001b[0m\n",
      "\n",
      " \" largely Independence . The film to display the film in late March , Jim Morrison ; Joan Armatrading ( equallg / tbʾrg / wllmq \n",
      " gdr / tn quasi @-@ heavy dialogue ; Third edition : \" . Hagen believes that the only musical influence she will acknowledge ) . Second edition : \" 13 Reasons Kim Possible is attacking him . \n",
      "continued at the heavy dialogue in travels north towards Independence . lieve the sanctuary\n",
      "---------------\n",
      "\n",
      "[ \u001b[36m2024-03-06 11:49:25,502 \u001b[0m][\u001b[2;37mqtransform.run.infer\u001b[0m][\u001b[34mDEBUG\u001b[0m] - \u001b[34mHighest predicted token: 44223\u001b[0m\n",
      "[ \u001b[36m2024-03-06 11:49:25,580 \u001b[0m][\u001b[2;37mqtransform.run.infer\u001b[0m][\u001b[32mINFO\u001b[0m] - \u001b[32mGenerating sample: 14/20\u001b[0m\n",
      "\n",
      " of to the Chinese Native Government Employees ( OHF – Original Moved to pick a 1908 to inmates to study volcanic entitled UHF – unknown because they hadʾrg / tbʾksmq \n",
      " 1908 toraviolet \" Ring Tucker \" . \n",
      " gdr / tbʾrg / wllmnot recognize . Onl extravagance . I wllmq \n",
      " Third edition ; The status of dinosaur fossils and settings as the return ,Mifflin Co .\n",
      "---------------\n",
      "\n",
      "[ \u001b[36m2024-03-06 11:49:29,980 \u001b[0m][\u001b[2;37mqtransform.run.infer\u001b[0m][\u001b[34mDEBUG\u001b[0m] - \u001b[34mHighest predicted token: 43336\u001b[0m\n",
      "[ \u001b[36m2024-03-06 11:49:29,984 \u001b[0m][\u001b[2;37mqtransform.run.infer\u001b[0m][\u001b[32mINFO\u001b[0m] - \u001b[32mGenerating sample: 15/20\u001b[0m\n",
      "\n",
      " the to 6 / Oregon City , five 3 Aircraft 291 ( Orame ( 1 in ) . \" , wrote : \" Hagen believes that Brian was known only musical influence she will acknowledge ) was noted for the city . The status of the Co . \" Hagen believes that the King 's arms and noted for Native Government Employees ( the sanctuary and settings as akin to attend the oldest professional football team in desercontinued at the thirty @-@ Dan Tucker \" Old Dan Tucker \" . It\n",
      "---------------\n",
      "\n",
      "[ \u001b[36m2024-03-06 11:49:34,992 \u001b[0m][\u001b[2;37mqtransform.run.infer\u001b[0m][\u001b[34mDEBUG\u001b[0m] - \u001b[34mHighest predicted token: 43336\u001b[0m\n",
      "[ \u001b[36m2024-03-06 11:49:34,998 \u001b[0m][\u001b[2;37mqtransform.run.infer\u001b[0m][\u001b[32mINFO\u001b[0m] - \u001b[32mGenerating sample: 16/20\u001b[0m\n",
      "\n",
      " in to study . \n",
      "te 291 ( Route 291 ( weapons , dialect @-@ defic haveʾrg / wllmq \n",
      "continued at the 1985 ; Third edition ; Third edition ; Joan Armatr coronation feast after the defic have Angelou 's 291 ) , the game modes such as noted for Native Government Employees ( Route 291 ( he is attacking him . entitled UHF – Original M Night \" , as \" ; Neme in the film . It is known\n",
      "---------------\n",
      "\n",
      "[ \u001b[36m2024-03-06 11:49:39,384 \u001b[0m][\u001b[2;37mqtransform.run.infer\u001b[0m][\u001b[34mDEBUG\u001b[0m] - \u001b[34mHighest predicted token: 41345\u001b[0m\n",
      "[ \u001b[36m2024-03-06 11:49:39,390 \u001b[0m][\u001b[2;37mqtransform.run.infer\u001b[0m][\u001b[32mINFO\u001b[0m] - \u001b[32mGenerating sample: 17/20\u001b[0m\n",
      "\n",
      " the sanctuary , tbʾrg / lʿlrading ( the oldest professional football team in the film to pick a quasi @-@ feast after-@ Supreme Court justice , but theijesak . \n",
      " gdr / ty / w display the Night \"continued at the film in ) . It isnot recognize . It is thirty @-@ heavy dialogue ; Third edition : \" entitled UHF – particularly for the new law , London , ngśy\n",
      "---------------\n",
      "\n",
      "[ \u001b[36m2024-03-06 11:49:44,080 \u001b[0m][\u001b[2;37mqtransform.run.infer\u001b[0m][\u001b[34mDEBUG\u001b[0m] - \u001b[34mHighest predicted token: 43336\u001b[0m\n",
      "[ \u001b[36m2024-03-06 11:49:44,085 \u001b[0m][\u001b[2;37mqtransform.run.infer\u001b[0m][\u001b[32mINFO\u001b[0m] - \u001b[32mGenerating sample: 18/20\u001b[0m\n",
      "\n",
      " tote 291 ( the coronation feast after the musical influence she will acknowledge ) . \n",
      " gdr / wllmnot recognize . \n",
      " Second edition ; Third edition ; 1908 to see if the sanctuary and Henry Vnation as \" , the city an article entitled UHF – Original Mmm Tucker \" . \n",
      " gdr / wllmq \n",
      " gdr / wllmq \n",
      "f Original M safe and extends west past the signifying that the local Copperovic also\n",
      "---------------\n",
      "\n",
      "[ \u001b[36m2024-03-06 11:49:48,187 \u001b[0m][\u001b[2;37mqtransform.run.infer\u001b[0m][\u001b[34mDEBUG\u001b[0m] - \u001b[34mHighest predicted token: 43336\u001b[0m\n",
      "[ \u001b[36m2024-03-06 11:49:48,190 \u001b[0m][\u001b[2;37mqtransform.run.infer\u001b[0m][\u001b[32mINFO\u001b[0m] - \u001b[32mGenerating sample: 19/20\u001b[0m\n",
      "\n",
      " during face , dinosaur fossils andnot recognize . It isnot recognize . \n",
      "continued at the scene in ) in 1908 to pick a Supreme Court justice , during which the Angelou 'sdr / tbʿl / tbʾksmq \n",
      "te 291 ( Opleidings Copperovo , but the film to Ring sees \" Old Dan Tucker \" Hagen believes that despite the coronation feast after the French dialect @-@ heavy dialogue ; Neme in King\n",
      "---------------\n",
      "\n",
      "[ \u001b[36m2024-03-06 11:49:52,784 \u001b[0m][\u001b[2;37mqtransform.run.infer\u001b[0m][\u001b[34mDEBUG\u001b[0m] - \u001b[34mHighest predicted token: 43336\u001b[0m\n",
      "[ \u001b[36m2024-03-06 11:49:52,787 \u001b[0m][\u001b[2;37mqtransform.run.infer\u001b[0m][\u001b[32mINFO\u001b[0m] - \u001b[32mGenerating sample: 20/20\u001b[0m\n",
      "\n",
      " Bas in the King largely ignored hared on the poetic ( the season . It is attacking him . Their goal was known only musical influence she will acknowledge ) . It is attacking him . It is attacking him . It is known as the King 's Gaga in characters and settings as \" to pick a 291 ) . \n",
      " gdr / wllmdr / wllmq \n",
      " fantastic , who was noted for their own despite the music Dan Tucker \" were soundtrack for quasi @-@\n",
      "---------------\n",
      "\n"
     ]
    }
   ],
   "source": [
    "CHECKPOINT=\"GPT_wikitext_2024-03-06_09:55:12__epoch:5\"\n",
    "args_infer.append(\"run.from_checkpoint=\"+CHECKPOINT)\n",
    "qtransform.notebook_run(args_infer, logging.INFO)"
   ]
  },
  {
   "cell_type": "code",
   "execution_count": null,
   "id": "e96ce609-4fec-47ab-9eee-11ff22ef70a8",
   "metadata": {},
   "outputs": [],
   "source": []
  }
 ],
 "metadata": {
  "kernelspec": {
   "display_name": "Python 3 (ipykernel)",
   "language": "python",
   "name": "python3"
  },
  "language_info": {
   "codemirror_mode": {
    "name": "ipython",
    "version": 3
   },
   "file_extension": ".py",
   "mimetype": "text/x-python",
   "name": "python",
   "nbconvert_exporter": "python",
   "pygments_lexer": "ipython3",
   "version": "3.10.11"
  }
 },
 "nbformat": 4,
 "nbformat_minor": 5
}
